{
 "cells": [
  {
   "cell_type": "code",
   "execution_count": 1,
   "id": "6ef9c69a",
   "metadata": {},
   "outputs": [],
   "source": [
    "import pickle"
   ]
  },
  {
   "cell_type": "code",
   "execution_count": 2,
   "id": "ff4e013a",
   "metadata": {},
   "outputs": [],
   "source": [
    "favorite = {'lion':'yellow', 'tiger':'red'}"
   ]
  },
  {
   "cell_type": "code",
   "execution_count": 6,
   "id": "204dbe24",
   "metadata": {},
   "outputs": [],
   "source": [
    "pickle.dump(favorite, open('./saves/favorite_save.pkl', 'wb'))"
   ]
  },
  {
   "cell_type": "code",
   "execution_count": null,
   "id": "36f280f4",
   "metadata": {},
   "outputs": [],
   "source": []
  }
 ],
 "metadata": {
  "kernelspec": {
   "display_name": "Python 3",
   "language": "python",
   "name": "python3"
  },
  "language_info": {
   "codemirror_mode": {
    "name": "ipython",
    "version": 3
   },
   "file_extension": ".py",
   "mimetype": "text/x-python",
   "name": "python",
   "nbconvert_exporter": "python",
   "pygments_lexer": "ipython3",
   "version": "3.6.4"
  }
 },
 "nbformat": 4,
 "nbformat_minor": 5
}
