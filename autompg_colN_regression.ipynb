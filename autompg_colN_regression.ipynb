{
 "cells": [
  {
   "cell_type": "code",
   "execution_count": 2,
   "id": "9cd070ab",
   "metadata": {},
   "outputs": [],
   "source": [
    "# import sklearn"
   ]
  },
  {
   "cell_type": "code",
   "execution_count": 3,
   "id": "b583d258",
   "metadata": {},
   "outputs": [],
   "source": [
    "# !python -m pip install sklearn"
   ]
  },
  {
   "cell_type": "code",
   "execution_count": 4,
   "id": "94a057eb",
   "metadata": {},
   "outputs": [],
   "source": [
    "# %load_ext autoreload\n",
    "\n",
    "# %autoreload 2"
   ]
  },
  {
   "cell_type": "code",
   "execution_count": 5,
   "id": "c472e735",
   "metadata": {},
   "outputs": [],
   "source": [
    "import pandas as pd"
   ]
  },
  {
   "cell_type": "code",
   "execution_count": 6,
   "id": "e259cdf7",
   "metadata": {},
   "outputs": [
    {
     "name": "stdout",
     "output_type": "stream",
     "text": [
      " C 드라이브의 볼륨에는 이름이 없습니다.\n",
      " 볼륨 일련 번호: 5411-6D65\n",
      "\n",
      " C:\\Develops\\ky_machinelearning\\files 디렉터리\n",
      "\n",
      "2021-06-29  오후 09:49            21,515 auto-mpg.csv\n",
      "               1개 파일              21,515 바이트\n",
      "               0개 디렉터리  22,581,841,920 바이트 남음\n"
     ]
    }
   ],
   "source": [
    "!dir .\\files\\auto-mpg.csv"
   ]
  },
  {
   "cell_type": "code",
   "execution_count": 7,
   "id": "118d2adf",
   "metadata": {},
   "outputs": [
    {
     "name": "stdout",
     "output_type": "stream",
     "text": [
      "<class 'pandas.core.frame.DataFrame'>\n",
      "RangeIndex: 398 entries, 0 to 397\n",
      "Data columns (total 9 columns):\n",
      " #   Column  Non-Null Count  Dtype  \n",
      "---  ------  --------------  -----  \n",
      " 0   0       398 non-null    float64\n",
      " 1   1       398 non-null    int64  \n",
      " 2   2       398 non-null    float64\n",
      " 3   3       398 non-null    object \n",
      " 4   4       398 non-null    float64\n",
      " 5   5       398 non-null    float64\n",
      " 6   6       398 non-null    int64  \n",
      " 7   7       398 non-null    int64  \n",
      " 8   8       398 non-null    object \n",
      "dtypes: float64(4), int64(3), object(2)\n",
      "memory usage: 28.1+ KB\n"
     ]
    }
   ],
   "source": [
    "pd_data = pd.read_csv('./files/auto-mpg.csv', header=None)\n",
    "pd_data.info()"
   ]
  },
  {
   "cell_type": "code",
   "execution_count": 8,
   "id": "9e5a5e0d",
   "metadata": {},
   "outputs": [
    {
     "data": {
      "text/plain": [
       "(398, 9)"
      ]
     },
     "execution_count": 8,
     "metadata": {},
     "output_type": "execute_result"
    }
   ],
   "source": [
    "pd_data.shape\n",
    "# pd_data[['mpg', 'weight']]"
   ]
  },
  {
   "cell_type": "code",
   "execution_count": 9,
   "id": "38c0a89e",
   "metadata": {},
   "outputs": [],
   "source": [
    "pd_data.columns = ['mpg','cylinders','displacement','horsepower','weight',\n",
    "              'acceleration','model year','origin','name'] "
   ]
  },
  {
   "cell_type": "code",
   "execution_count": 10,
   "id": "5b90da41",
   "metadata": {},
   "outputs": [],
   "source": [
    "x = pd_data[['weight', 'cylinders']]"
   ]
  },
  {
   "cell_type": "code",
   "execution_count": 11,
   "id": "daece1b3",
   "metadata": {},
   "outputs": [],
   "source": [
    "y = pd_data[['mpg']]"
   ]
  },
  {
   "cell_type": "code",
   "execution_count": 12,
   "id": "891b6ee3",
   "metadata": {},
   "outputs": [
    {
     "data": {
      "text/plain": [
       "((398, 2), (398, 1))"
      ]
     },
     "execution_count": 12,
     "metadata": {},
     "output_type": "execute_result"
    }
   ],
   "source": [
    "x.shape, y.shape"
   ]
  },
  {
   "cell_type": "code",
   "execution_count": 13,
   "id": "cefe5620",
   "metadata": {},
   "outputs": [],
   "source": [
    "from sklearn.model_selection import train_test_split"
   ]
  },
  {
   "cell_type": "code",
   "execution_count": 14,
   "id": "d7688f1d",
   "metadata": {},
   "outputs": [
    {
     "data": {
      "text/plain": [
       "((298, 2), (100, 2), (298, 1), (100, 1))"
      ]
     },
     "execution_count": 14,
     "metadata": {},
     "output_type": "execute_result"
    }
   ],
   "source": [
    "X_train, X_test, Y_train, Y_test = train_test_split(x,y)\n",
    "X_train.shape, X_test.shape, Y_train.shape, Y_test.shape"
   ]
  },
  {
   "cell_type": "code",
   "execution_count": 15,
   "id": "92061ff0",
   "metadata": {},
   "outputs": [],
   "source": [
    "from sklearn.linear_model import LinearRegression"
   ]
  },
  {
   "cell_type": "code",
   "execution_count": 16,
   "id": "0b636017",
   "metadata": {},
   "outputs": [],
   "source": [
    "lr = LinearRegression()"
   ]
  },
  {
   "cell_type": "code",
   "execution_count": 17,
   "id": "6153a6dd",
   "metadata": {},
   "outputs": [
    {
     "data": {
      "text/plain": [
       "LinearRegression()"
      ]
     },
     "execution_count": 17,
     "metadata": {},
     "output_type": "execute_result"
    }
   ],
   "source": [
    "# lr.fit(x,y)\n",
    "lr.fit(X_train,Y_train)"
   ]
  },
  {
   "cell_type": "code",
   "execution_count": 18,
   "id": "8686e1fa",
   "metadata": {},
   "outputs": [
    {
     "data": {
      "text/plain": [
       "(array([[-0.0067114 , -0.58167211]]), array([46.71731065]))"
      ]
     },
     "execution_count": 18,
     "metadata": {},
     "output_type": "execute_result"
    }
   ],
   "source": [
    "# split data with 1 column\n",
    "lr.coef_, lr.intercept_ "
   ]
  },
  {
   "cell_type": "code",
   "execution_count": 19,
   "id": "beae7bb0",
   "metadata": {},
   "outputs": [
    {
     "data": {
      "text/plain": [
       "0.696041286997504"
      ]
     },
     "execution_count": 19,
     "metadata": {},
     "output_type": "execute_result"
    }
   ],
   "source": [
    "# check with total data\n",
    "lr.score(x,y)"
   ]
  },
  {
   "cell_type": "code",
   "execution_count": 20,
   "id": "aea4b54d",
   "metadata": {},
   "outputs": [
    {
     "data": {
      "text/plain": [
       "0.7054030747172413"
      ]
     },
     "execution_count": 20,
     "metadata": {},
     "output_type": "execute_result"
    }
   ],
   "source": [
    "# check with a part train data\n",
    "lr.score(X_train,Y_train)"
   ]
  },
  {
   "cell_type": "code",
   "execution_count": 21,
   "id": "ca1e47d7",
   "metadata": {},
   "outputs": [
    {
     "data": {
      "text/plain": [
       "0.6637194252312717"
      ]
     },
     "execution_count": 21,
     "metadata": {},
     "output_type": "execute_result"
    }
   ],
   "source": [
    "# check with a part of test data\n",
    "lr.score(X_test,Y_test)"
   ]
  },
  {
   "cell_type": "markdown",
   "id": "89db4de7",
   "metadata": {},
   "source": [
    "y = -0.00767661x + -0.73190678x + 46.31736442"
   ]
  },
  {
   "cell_type": "code",
   "execution_count": 22,
   "id": "32f30f19",
   "metadata": {},
   "outputs": [
    {
     "data": {
      "text/plain": [
       "array([[18.5471983]])"
      ]
     },
     "execution_count": 22,
     "metadata": {},
     "output_type": "execute_result"
    }
   ],
   "source": [
    "# weight\tcylinders\n",
    "lr.predict([[3504.0,8]])"
   ]
  },
  {
   "cell_type": "code",
   "execution_count": 23,
   "id": "b9723e9f",
   "metadata": {},
   "outputs": [
    {
     "data": {
      "text/plain": [
       "array([[25.66582428]])"
      ]
     },
     "execution_count": 23,
     "metadata": {},
     "output_type": "execute_result"
    }
   ],
   "source": [
    "# 2790.0, 4\n",
    "lr.predict([[2790.0, 4]])"
   ]
  },
  {
   "cell_type": "code",
   "execution_count": 24,
   "id": "cf4a06f7",
   "metadata": {},
   "outputs": [
    {
     "data": {
      "text/plain": [
       "21.971995399999997"
      ]
     },
     "execution_count": 24,
     "metadata": {},
     "output_type": "execute_result"
    }
   ],
   "source": [
    "(-0.00767661*2790.0) + (-0.73190678*4 )+ 46.31736442"
   ]
  },
  {
   "cell_type": "code",
   "execution_count": 25,
   "id": "debd2597",
   "metadata": {},
   "outputs": [
    {
     "data": {
      "text/plain": [
       "sklearn.linear_model._base.LinearRegression"
      ]
     },
     "execution_count": 25,
     "metadata": {},
     "output_type": "execute_result"
    }
   ],
   "source": [
    "type(lr)"
   ]
  },
  {
   "cell_type": "code",
   "execution_count": 26,
   "id": "916f05fd",
   "metadata": {},
   "outputs": [],
   "source": [
    "import pickle"
   ]
  },
  {
   "cell_type": "code",
   "execution_count": 29,
   "id": "3288854d",
   "metadata": {},
   "outputs": [],
   "source": [
    "pickle.dump(lr, open('./saves/autompg_lr.pkl','wb'))"
   ]
  },
  {
   "cell_type": "code",
   "execution_count": 31,
   "id": "c104a8ba",
   "metadata": {},
   "outputs": [
    {
     "data": {
      "text/plain": [
       "((298, 1), (298, 1))"
      ]
     },
     "execution_count": 31,
     "metadata": {},
     "output_type": "execute_result"
    }
   ],
   "source": [
    "y_predict = lr.predict(X_train)\n",
    "y_predict.shape, Y_train.shape"
   ]
  },
  {
   "cell_type": "code",
   "execution_count": 32,
   "id": "e096a459",
   "metadata": {
    "collapsed": true
   },
   "outputs": [
    {
     "data": {
      "text/html": [
       "<div>\n",
       "<style scoped>\n",
       "    .dataframe tbody tr th:only-of-type {\n",
       "        vertical-align: middle;\n",
       "    }\n",
       "\n",
       "    .dataframe tbody tr th {\n",
       "        vertical-align: top;\n",
       "    }\n",
       "\n",
       "    .dataframe thead th {\n",
       "        text-align: right;\n",
       "    }\n",
       "</style>\n",
       "<table border=\"1\" class=\"dataframe\">\n",
       "  <thead>\n",
       "    <tr style=\"text-align: right;\">\n",
       "      <th></th>\n",
       "      <th>mpg</th>\n",
       "    </tr>\n",
       "  </thead>\n",
       "  <tbody>\n",
       "    <tr>\n",
       "      <th>95</th>\n",
       "      <td>3.164193</td>\n",
       "    </tr>\n",
       "    <tr>\n",
       "      <th>299</th>\n",
       "      <td>4.218735</td>\n",
       "    </tr>\n",
       "    <tr>\n",
       "      <th>26</th>\n",
       "      <td>-2.694860</td>\n",
       "    </tr>\n",
       "    <tr>\n",
       "      <th>43</th>\n",
       "      <td>2.788357</td>\n",
       "    </tr>\n",
       "    <tr>\n",
       "      <th>381</th>\n",
       "      <td>6.408008</td>\n",
       "    </tr>\n",
       "    <tr>\n",
       "      <th>...</th>\n",
       "      <td>...</td>\n",
       "    </tr>\n",
       "    <tr>\n",
       "      <th>365</th>\n",
       "      <td>-2.490403</td>\n",
       "    </tr>\n",
       "    <tr>\n",
       "      <th>12</th>\n",
       "      <td>-1.822369</td>\n",
       "    </tr>\n",
       "    <tr>\n",
       "      <th>154</th>\n",
       "      <td>-5.193763</td>\n",
       "    </tr>\n",
       "    <tr>\n",
       "      <th>98</th>\n",
       "      <td>-5.227318</td>\n",
       "    </tr>\n",
       "    <tr>\n",
       "      <th>347</th>\n",
       "      <td>5.864387</td>\n",
       "    </tr>\n",
       "  </tbody>\n",
       "</table>\n",
       "<p>298 rows × 1 columns</p>\n",
       "</div>"
      ],
      "text/plain": [
       "          mpg\n",
       "95   3.164193\n",
       "299  4.218735\n",
       "26  -2.694860\n",
       "43   2.788357\n",
       "381  6.408008\n",
       "..        ...\n",
       "365 -2.490403\n",
       "12  -1.822369\n",
       "154 -5.193763\n",
       "98  -5.227318\n",
       "347  5.864387\n",
       "\n",
       "[298 rows x 1 columns]"
      ]
     },
     "execution_count": 32,
     "metadata": {},
     "output_type": "execute_result"
    }
   ],
   "source": [
    "y_result = Y_train - y_predict\n",
    "y_result"
   ]
  },
  {
   "cell_type": "code",
   "execution_count": null,
   "id": "00fdc8cd",
   "metadata": {},
   "outputs": [],
   "source": [
    "lr.score(X_train,Y_train)"
   ]
  }
 ],
 "metadata": {
  "kernelspec": {
   "display_name": "Python 3",
   "language": "python",
   "name": "python3"
  },
  "language_info": {
   "codemirror_mode": {
    "name": "ipython",
    "version": 3
   },
   "file_extension": ".py",
   "mimetype": "text/x-python",
   "name": "python",
   "nbconvert_exporter": "python",
   "pygments_lexer": "ipython3",
   "version": "3.6.4"
  }
 },
 "nbformat": 4,
 "nbformat_minor": 5
}
